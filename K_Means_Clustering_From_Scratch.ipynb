{
 "cells": [
  {
   "cell_type": "code",
   "execution_count": 1,
   "metadata": {
    "id": "q6OyPWGPbk6Q"
   },
   "outputs": [],
   "source": [
    "import numpy as np\n",
    "import matplotlib.pyplot as plt\n",
    "import pandas as pd\n",
    "from sklearn.datasets import make_blobs"
   ]
  },
  {
   "cell_type": "code",
   "execution_count": 2,
   "metadata": {
    "id": "pu6-Sk8qcFQg"
   },
   "outputs": [],
   "source": [
    "data = make_blobs(n_features=2, n_samples=100, centers=[[2.3,3.5], [5.6, 6.3]])"
   ]
  },
  {
   "cell_type": "code",
   "execution_count": 5,
   "metadata": {
    "colab": {
     "base_uri": "https://localhost:8080/"
    },
    "id": "zzlIqJokcF4T",
    "outputId": "568b8a35-6143-4ae8-de86-a35ce92f1fe1"
   },
   "outputs": [
    {
     "data": {
      "text/plain": [
       "(array([[2.79776355, 2.76533089],\n",
       "        [2.71497001, 4.57797819],\n",
       "        [5.51872804, 6.41613994],\n",
       "        [3.48622125, 4.05499616],\n",
       "        [1.00075625, 4.49430557],\n",
       "        [2.18723644, 5.04554028],\n",
       "        [2.24632669, 2.37777487],\n",
       "        [2.48090851, 2.91454805],\n",
       "        [2.16337287, 3.66166749],\n",
       "        [6.26899215, 7.10916882],\n",
       "        [5.433968  , 6.13087487],\n",
       "        [7.14231777, 6.74825021],\n",
       "        [6.10204735, 7.98747549],\n",
       "        [4.55624985, 6.18029635],\n",
       "        [7.68666949, 8.76714449],\n",
       "        [8.16450386, 5.98627461],\n",
       "        [2.57805409, 7.26337538],\n",
       "        [7.19113004, 6.80694087],\n",
       "        [5.72778639, 7.03853413],\n",
       "        [5.2303992 , 5.40138884],\n",
       "        [5.54597173, 5.47723736],\n",
       "        [6.27790146, 6.06479751],\n",
       "        [0.02879018, 3.70814754],\n",
       "        [1.20206717, 3.58775134],\n",
       "        [5.45057855, 6.46859516],\n",
       "        [6.14119787, 6.10373694],\n",
       "        [2.23568548, 2.73874189],\n",
       "        [5.08404946, 5.46165063],\n",
       "        [3.48961571, 3.12307878],\n",
       "        [3.96043377, 5.83790077],\n",
       "        [5.90659053, 5.42431986],\n",
       "        [7.14640918, 5.68051051],\n",
       "        [3.08818587, 3.61207431],\n",
       "        [4.01865744, 2.73538471],\n",
       "        [3.04690877, 2.83771977],\n",
       "        [4.07121489, 6.36495534],\n",
       "        [3.19364886, 3.33192896],\n",
       "        [5.6869209 , 7.37635301],\n",
       "        [1.40929743, 3.94653155],\n",
       "        [2.24939631, 2.26585815],\n",
       "        [4.75043435, 4.33436524],\n",
       "        [1.91235073, 4.62264688],\n",
       "        [6.23063104, 5.69555757],\n",
       "        [6.61216186, 5.21681341],\n",
       "        [5.51369712, 6.66992665],\n",
       "        [5.32006494, 5.62768425],\n",
       "        [3.48613908, 2.6844006 ],\n",
       "        [1.38355383, 1.5699508 ],\n",
       "        [5.12433561, 5.30238462],\n",
       "        [6.41173563, 7.03862026],\n",
       "        [1.71636185, 3.16440392],\n",
       "        [6.65003642, 6.79163551],\n",
       "        [1.5422004 , 3.34114306],\n",
       "        [0.65211596, 2.37997762],\n",
       "        [2.41235723, 4.23609452],\n",
       "        [7.31127095, 6.52385467],\n",
       "        [5.12252938, 5.42859783],\n",
       "        [5.85069355, 5.35526801],\n",
       "        [8.35519515, 6.75628366],\n",
       "        [2.82577899, 3.752349  ],\n",
       "        [6.17159293, 6.50064664],\n",
       "        [3.38257844, 3.77170133],\n",
       "        [6.93020487, 5.09349483],\n",
       "        [5.27432574, 6.49827415],\n",
       "        [2.28388356, 3.04194727],\n",
       "        [2.86421745, 4.4304776 ],\n",
       "        [5.17686993, 7.49951771],\n",
       "        [2.94228188, 2.59284654],\n",
       "        [7.43343512, 7.40470218],\n",
       "        [6.12508715, 3.26915048],\n",
       "        [4.7210168 , 5.62923263],\n",
       "        [2.20704757, 2.91265361],\n",
       "        [2.18291535, 5.24179722],\n",
       "        [4.90363481, 6.7152244 ],\n",
       "        [2.10520502, 4.74514655],\n",
       "        [5.44126943, 7.3108575 ],\n",
       "        [1.36320573, 4.63077219],\n",
       "        [4.87361618, 6.94618327],\n",
       "        [3.43219483, 3.18738633],\n",
       "        [1.28559832, 3.15055402],\n",
       "        [4.79264413, 6.45144524],\n",
       "        [4.057638  , 6.51048261],\n",
       "        [2.60621934, 3.66820705],\n",
       "        [2.33996641, 1.12348311],\n",
       "        [3.17373843, 3.43816108],\n",
       "        [1.78067869, 5.13195238],\n",
       "        [1.17336378, 3.27821594],\n",
       "        [4.59876377, 6.54796291],\n",
       "        [3.9366788 , 3.32170353],\n",
       "        [1.52613229, 3.05548516],\n",
       "        [2.84034928, 3.94946201],\n",
       "        [5.54665152, 6.41010923],\n",
       "        [2.89638528, 3.57320123],\n",
       "        [4.94897498, 5.85802134],\n",
       "        [5.91783667, 6.66674008],\n",
       "        [1.3638679 , 3.4636028 ],\n",
       "        [2.06130043, 1.99538299],\n",
       "        [1.76495237, 4.55801773],\n",
       "        [6.84217724, 6.26038282],\n",
       "        [1.38318882, 3.65830928]]),\n",
       " array([0, 0, 1, 0, 0, 0, 0, 0, 0, 1, 1, 1, 1, 1, 1, 1, 1, 1, 1, 1, 1, 1,\n",
       "        0, 0, 1, 1, 0, 1, 0, 1, 1, 1, 0, 0, 0, 1, 0, 1, 0, 0, 0, 0, 1, 1,\n",
       "        1, 1, 0, 0, 1, 1, 0, 1, 0, 0, 0, 1, 1, 1, 1, 0, 1, 0, 1, 1, 0, 0,\n",
       "        1, 0, 1, 1, 1, 0, 0, 1, 0, 1, 0, 1, 0, 0, 1, 1, 0, 0, 0, 0, 0, 1,\n",
       "        0, 0, 0, 1, 0, 1, 1, 0, 0, 0, 1, 0]))"
      ]
     },
     "execution_count": 5,
     "metadata": {},
     "output_type": "execute_result"
    }
   ],
   "source": [
    "data"
   ]
  },
  {
   "cell_type": "code",
   "execution_count": 6,
   "metadata": {
    "colab": {
     "base_uri": "https://localhost:8080/",
     "height": 430
    },
    "id": "Unr-JnoZcGvw",
    "outputId": "27a39944-e6f1-4891-dfd5-86b7348edaa4"
   },
   "outputs": [
    {
     "data": {
      "image/png": "[encoded data removed]",
      "text/plain": [
       "<Figure size 640x480 with 1 Axes>"
      ]
     },
     "metadata": {},
     "output_type": "display_data"
    }
   ],
   "source": [
    "X = data[0]\n",
    "plt.scatter(X[:,0], X[:,1])\n",
    "plt.show()"
   ]
  },
  {
   "cell_type": "code",
   "execution_count": 7,
   "metadata": {
    "colab": {
     "base_uri": "https://localhost:8080/"
    },
    "id": "MvX5AGx4cQ9X",
    "outputId": "49efbcf2-8681-4763-c863-c8e6d6239d91"
   },
   "outputs": [
    {
     "data": {
      "text/plain": [
       "array([5.51872804, 6.41613994])"
      ]
     },
     "execution_count": 7,
     "metadata": {},
     "output_type": "execute_result"
    }
   ],
   "source": [
    "# Step 1 = Assign the centers randomly\n",
    "cent1 = X[2]\n",
    "cent1"
   ]
  },
  {
   "cell_type": "code",
   "execution_count": 8,
   "metadata": {
    "colab": {
     "base_uri": "https://localhost:8080/"
    },
    "id": "5Y6Z91y2cz_v",
    "outputId": "76c5529f-3d61-43e1-ec9d-04ebfd6b0f25"
   },
   "outputs": [
    {
     "data": {
      "text/plain": [
       "array([2.16337287, 3.66166749])"
      ]
     },
     "execution_count": 8,
     "metadata": {},
     "output_type": "execute_result"
    }
   ],
   "source": [
    "cent2 = X[8]\n",
    "cent2"
   ]
  },
  {
   "cell_type": "code",
   "execution_count": 9,
   "metadata": {
    "colab": {
     "base_uri": "https://localhost:8080/"
    },
    "id": "6N4sScQfelJE",
    "outputId": "a9f1b30c-37d6-4666-fa87-afe73a363ecb"
   },
   "outputs": [
    {
     "data": {
      "text/plain": [
       "array([[2.79776355, 2.76533089],\n",
       "       [2.71497001, 4.57797819],\n",
       "       [5.51872804, 6.41613994],\n",
       "       [3.48622125, 4.05499616],\n",
       "       [1.00075625, 4.49430557],\n",
       "       [2.18723644, 5.04554028],\n",
       "       [2.24632669, 2.37777487],\n",
       "       [2.48090851, 2.91454805],\n",
       "       [2.16337287, 3.66166749],\n",
       "       [6.26899215, 7.10916882],\n",
       "       [5.433968  , 6.13087487],\n",
       "       [7.14231777, 6.74825021],\n",
       "       [6.10204735, 7.98747549],\n",
       "       [4.55624985, 6.18029635],\n",
       "       [7.68666949, 8.76714449],\n",
       "       [8.16450386, 5.98627461],\n",
       "       [2.57805409, 7.26337538],\n",
       "       [7.19113004, 6.80694087],\n",
       "       [5.72778639, 7.03853413],\n",
       "       [5.2303992 , 5.40138884],\n",
       "       [5.54597173, 5.47723736],\n",
       "       [6.27790146, 6.06479751],\n",
       "       [0.02879018, 3.70814754],\n",
       "       [1.20206717, 3.58775134],\n",
       "       [5.45057855, 6.46859516],\n",
       "       [6.14119787, 6.10373694],\n",
       "       [2.23568548, 2.73874189],\n",
       "       [5.08404946, 5.46165063],\n",
       "       [3.48961571, 3.12307878],\n",
       "       [3.96043377, 5.83790077],\n",
       "       [5.90659053, 5.42431986],\n",
       "       [7.14640918, 5.68051051],\n",
       "       [3.08818587, 3.61207431],\n",
       "       [4.01865744, 2.73538471],\n",
       "       [3.04690877, 2.83771977],\n",
       "       [4.07121489, 6.36495534],\n",
       "       [3.19364886, 3.33192896],\n",
       "       [5.6869209 , 7.37635301],\n",
       "       [1.40929743, 3.94653155],\n",
       "       [2.24939631, 2.26585815],\n",
       "       [4.75043435, 4.33436524],\n",
       "       [1.91235073, 4.62264688],\n",
       "       [6.23063104, 5.69555757],\n",
       "       [6.61216186, 5.21681341],\n",
       "       [5.51369712, 6.66992665],\n",
       "       [5.32006494, 5.62768425],\n",
       "       [3.48613908, 2.6844006 ],\n",
       "       [1.38355383, 1.5699508 ],\n",
       "       [5.12433561, 5.30238462],\n",
       "       [6.41173563, 7.03862026],\n",
       "       [1.71636185, 3.16440392],\n",
       "       [6.65003642, 6.79163551],\n",
       "       [1.5422004 , 3.34114306],\n",
       "       [0.65211596, 2.37997762],\n",
       "       [2.41235723, 4.23609452],\n",
       "       [7.31127095, 6.52385467],\n",
       "       [5.12252938, 5.42859783],\n",
       "       [5.85069355, 5.35526801],\n",
       "       [8.35519515, 6.75628366],\n",
       "       [2.82577899, 3.752349  ],\n",
       "       [6.17159293, 6.50064664],\n",
       "       [3.38257844, 3.77170133],\n",
       "       [6.93020487, 5.09349483],\n",
       "       [5.27432574, 6.49827415],\n",
       "       [2.28388356, 3.04194727],\n",
       "       [2.86421745, 4.4304776 ],\n",
       "       [5.17686993, 7.49951771],\n",
       "       [2.94228188, 2.59284654],\n",
       "       [7.43343512, 7.40470218],\n",
       "       [6.12508715, 3.26915048],\n",
       "       [4.7210168 , 5.62923263],\n",
       "       [2.20704757, 2.91265361],\n",
       "       [2.18291535, 5.24179722],\n",
       "       [4.90363481, 6.7152244 ],\n",
       "       [2.10520502, 4.74514655],\n",
       "       [5.44126943, 7.3108575 ],\n",
       "       [1.36320573, 4.63077219],\n",
       "       [4.87361618, 6.94618327],\n",
       "       [3.43219483, 3.18738633],\n",
       "       [1.28559832, 3.15055402],\n",
       "       [4.79264413, 6.45144524],\n",
       "       [4.057638  , 6.51048261],\n",
       "       [2.60621934, 3.66820705],\n",
       "       [2.33996641, 1.12348311],\n",
       "       [3.17373843, 3.43816108],\n",
       "       [1.78067869, 5.13195238],\n",
       "       [1.17336378, 3.27821594],\n",
       "       [4.59876377, 6.54796291],\n",
       "       [3.9366788 , 3.32170353],\n",
       "       [1.52613229, 3.05548516],\n",
       "       [2.84034928, 3.94946201],\n",
       "       [5.54665152, 6.41010923],\n",
       "       [2.89638528, 3.57320123],\n",
       "       [4.94897498, 5.85802134],\n",
       "       [5.91783667, 6.66674008],\n",
       "       [1.3638679 , 3.4636028 ],\n",
       "       [2.06130043, 1.99538299],\n",
       "       [1.76495237, 4.55801773],\n",
       "       [6.84217724, 6.26038282],\n",
       "       [1.38318882, 3.65830928]])"
      ]
     },
     "execution_count": 9,
     "metadata": {},
     "output_type": "execute_result"
    }
   ],
   "source": [
    "X"
   ]
  },
  {
   "cell_type": "code",
   "execution_count": 10,
   "metadata": {
    "id": "mpMyms9JdEmf"
   },
   "outputs": [],
   "source": [
    "# Step 2 : Find the distance of every point from newly assigned random centers\n",
    "# Euclidean Distance\n",
    "# Manhatten Distance\n",
    "\n",
    "dist1 = np.sqrt((cent1[0]-X[:,0])**2 + (cent1[1] - X[:,1])**2)"
   ]
  },
  {
   "cell_type": "code",
   "execution_count": 11,
   "metadata": {
    "colab": {
     "base_uri": "https://localhost:8080/"
    },
    "id": "ZJiWHtgZe-KZ",
    "outputId": "09e49ced-d3dc-4f25-9cf1-86dc94286072"
   },
   "outputs": [
    {
     "data": {
      "text/plain": [
       "array([4.55324659, 3.35259567, 0.        , 3.11545884, 4.9097369 ,\n",
       "       3.60241304, 5.19778829, 4.63567615, 4.34114349, 1.02136441,\n",
       "       0.29759104, 1.65720875, 1.67611361, 0.99095231, 3.1979982 ,\n",
       "       2.68046897, 3.0602894 , 1.71745563, 0.65656677, 1.05491863,\n",
       "       0.93929776, 0.836532  , 6.12149006, 5.16075025, 0.08599943,\n",
       "       0.69646559, 4.92966783, 1.04880661, 3.86801611, 1.6621196 ,\n",
       "       1.06496215, 1.78619611, 3.71083809, 3.97469129, 4.34913571,\n",
       "       1.44841783, 3.86242807, 0.97483228, 4.79441191, 5.28331041,\n",
       "       2.21902255, 4.02772574, 1.01293871, 1.6229546 , 0.25383657,\n",
       "       0.81309864, 4.24938777, 6.37065263, 1.18152288, 1.08855147,\n",
       "       5.00317657, 1.19199647, 5.02676615, 6.32254058, 3.79501485,\n",
       "       1.79577631, 1.06405489, 1.11159811, 2.856789  , 3.78784328,\n",
       "       0.65831143, 3.39943976, 1.9343363 , 0.25783428, 4.67433364,\n",
       "       3.31500851, 1.13603449, 4.61038472, 2.15484536, 3.20487348,\n",
       "       1.12052057, 4.82095883, 3.53648514, 0.68395263, 3.80057342,\n",
       "       0.89806422, 4.52282033, 0.83493427, 3.84427766, 5.34634816,\n",
       "       0.72694175, 1.46413273, 4.00422803, 6.17387575, 3.79042667,\n",
       "       3.95248664, 5.35992142, 0.92936083, 3.47540163, 5.2186992 ,\n",
       "       3.64118289, 0.02856729, 3.86768433, 0.79756813, 0.47126227,\n",
       "       5.09709117, 5.6122097 , 4.18849017, 1.33258323, 4.97074588])"
      ]
     },
     "execution_count": 11,
     "metadata": {},
     "output_type": "execute_result"
    }
   ],
   "source": [
    "dist1"
   ]
  },
  {
   "cell_type": "code",
   "execution_count": 12,
   "metadata": {
    "id": "SsF3FWdge_C6"
   },
   "outputs": [],
   "source": [
    "dist2 = np.sqrt((cent2[0] - X[:,0])**2 + (cent2[1] - X[:,1])**2)"
   ]
  },
  {
   "cell_type": "code",
   "execution_count": 13,
   "metadata": {
    "colab": {
     "base_uri": "https://localhost:8080/"
    },
    "id": "igAz9qzyfI3k",
    "outputId": "a3bd10d5-160f-4fb0-91c7-3349d22e7a06"
   },
   "outputs": [
    {
     "data": {
      "text/plain": [
       "array([1.0981215 , 1.06952546, 4.34114349, 1.38008525, 1.43002223,\n",
       "       1.38407853, 1.2865697 , 0.81179821, 0.        , 5.36109831,\n",
       "       4.09802118, 5.85806156, 5.85027961, 3.47409723, 7.52148263,\n",
       "       6.43563295, 3.62550138, 5.93052163, 4.91001752, 3.52608577,\n",
       "       3.83904533, 4.76491127, 2.13508868, 0.96414327, 4.32256453,\n",
       "       4.6676327 , 0.92575417, 3.43078578, 1.43143211, 2.82230742,\n",
       "       4.13746563, 5.3764652 , 0.92614176, 2.07366357, 1.20810825,\n",
       "       3.30871975, 1.08175604, 5.11998821, 0.80608765, 1.39845762,\n",
       "       2.67308986, 0.9932238 , 4.5474496 , 4.71277014, 4.50269872,\n",
       "       3.71886095, 1.64461577, 2.23235222, 3.38515185, 5.42700619,\n",
       "       0.66864782, 5.47054382, 0.69899295, 1.98157169, 0.62606679,\n",
       "       5.89007386, 3.44654175, 4.05766146, 6.92208873, 0.66858433,\n",
       "       4.91178487, 1.2241608 , 4.97722984, 4.21003148, 0.63132873,\n",
       "       1.04031347, 4.87957569, 1.32252692, 6.464044  , 3.9811116 ,\n",
       "       3.22689557, 0.75028613, 1.58025058, 4.10283382, 1.08503934,\n",
       "       4.90522105, 1.2567543 , 4.25834038, 1.35456701, 1.01573872,\n",
       "       3.83352674, 3.42110917, 0.44289475, 2.54432018, 1.03479161,\n",
       "       1.51927368, 1.06167466, 3.77648383, 1.80559946, 0.879507  ,\n",
       "       0.73561046, 4.35895704, 0.73833154, 3.54732989, 4.80899778,\n",
       "       0.82367337, 1.66940792, 0.9809091 , 5.35205864, 0.78019128])"
      ]
     },
     "execution_count": 13,
     "metadata": {},
     "output_type": "execute_result"
    }
   ],
   "source": [
    "dist2"
   ]
  },
  {
   "cell_type": "code",
   "execution_count": 14,
   "metadata": {
    "colab": {
     "base_uri": "https://localhost:8080/",
     "height": 206
    },
    "id": "K5SEfzPHfJ7F",
    "outputId": "203cd9e6-60a0-469c-a4a0-bf7dfe02f8db"
   },
   "outputs": [
    {
     "data": {
      "text/html": [
       "<div>\n",
       "<style scoped>\n",
       "    .dataframe tbody tr th:only-of-type {\n",
       "        vertical-align: middle;\n",
       "    }\n",
       "\n",
       "    .dataframe tbody tr th {\n",
       "        vertical-align: top;\n",
       "    }\n",
       "\n",
       "    .dataframe thead th {\n",
       "        text-align: right;\n",
       "    }\n",
       "</style>\n",
       "<table border=\"1\" class=\"dataframe\">\n",
       "  <thead>\n",
       "    <tr style=\"text-align: right;\">\n",
       "      <th></th>\n",
       "      <th>Col_1</th>\n",
       "      <th>Col_2</th>\n",
       "      <th>dist_1</th>\n",
       "      <th>dist_2</th>\n",
       "    </tr>\n",
       "  </thead>\n",
       "  <tbody>\n",
       "    <tr>\n",
       "      <th>0</th>\n",
       "      <td>2.797764</td>\n",
       "      <td>2.765331</td>\n",
       "      <td>4.553247</td>\n",
       "      <td>1.098121</td>\n",
       "    </tr>\n",
       "    <tr>\n",
       "      <th>1</th>\n",
       "      <td>2.714970</td>\n",
       "      <td>4.577978</td>\n",
       "      <td>3.352596</td>\n",
       "      <td>1.069525</td>\n",
       "    </tr>\n",
       "    <tr>\n",
       "      <th>2</th>\n",
       "      <td>5.518728</td>\n",
       "      <td>6.416140</td>\n",
       "      <td>0.000000</td>\n",
       "      <td>4.341143</td>\n",
       "    </tr>\n",
       "    <tr>\n",
       "      <th>3</th>\n",
       "      <td>3.486221</td>\n",
       "      <td>4.054996</td>\n",
       "      <td>3.115459</td>\n",
       "      <td>1.380085</td>\n",
       "    </tr>\n",
       "    <tr>\n",
       "      <th>4</th>\n",
       "      <td>1.000756</td>\n",
       "      <td>4.494306</td>\n",
       "      <td>4.909737</td>\n",
       "      <td>1.430022</td>\n",
       "    </tr>\n",
       "  </tbody>\n",
       "</table>\n",
       "</div>"
      ],
      "text/plain": [
       "      Col_1     Col_2    dist_1    dist_2\n",
       "0  2.797764  2.765331  4.553247  1.098121\n",
       "1  2.714970  4.577978  3.352596  1.069525\n",
       "2  5.518728  6.416140  0.000000  4.341143\n",
       "3  3.486221  4.054996  3.115459  1.380085\n",
       "4  1.000756  4.494306  4.909737  1.430022"
      ]
     },
     "execution_count": 14,
     "metadata": {},
     "output_type": "execute_result"
    }
   ],
   "source": [
    "df = pd.DataFrame(X, columns=[\"Col_1\", \"Col_2\"])\n",
    "df[\"dist_1\"] = dist1\n",
    "df[\"dist_2\"] = dist2\n",
    "df.head()"
   ]
  },
  {
   "cell_type": "code",
   "execution_count": 15,
   "metadata": {
    "colab": {
     "base_uri": "https://localhost:8080/",
     "height": 430
    },
    "id": "H7rEy0L4foQy",
    "outputId": "bdaf47e0-bac1-4a40-dc1c-96811267757a"
   },
   "outputs": [
    {
     "data": {
      "image/png": "[encoded data removed]",
      "text/plain": [
       "<Figure size 640x480 with 1 Axes>"
      ]
     },
     "metadata": {},
     "output_type": "display_data"
    }
   ],
   "source": [
    "plt.scatter(X[:,0], X[:,1])\n",
    "plt.scatter([cent1[0], cent2[0]], [cent1[1], cent2[1]], marker=\"*\", color=\"red\")\n",
    "plt.show()"
   ]
  },
  {
   "cell_type": "code",
   "execution_count": 16,
   "metadata": {
    "colab": {
     "base_uri": "https://localhost:8080/"
    },
    "id": "FMCbqbOlg9U3",
    "outputId": "48af4422-cd49-4d89-d715-68b2fcc52a47"
   },
   "outputs": [
    {
     "data": {
      "text/plain": [
       "0"
      ]
     },
     "execution_count": 16,
     "metadata": {},
     "output_type": "execute_result"
    }
   ],
   "source": [
    "# Find which data point is near from which center\n",
    "\n",
    "np.argmin([1.019006,7.480282])"
   ]
  },
  {
   "cell_type": "code",
   "execution_count": 17,
   "metadata": {
    "colab": {
     "base_uri": "https://localhost:8080/"
    },
    "id": "dJbL2wDriC6T",
    "outputId": "854a35b8-3829-4e84-c52a-ceac389d99b7"
   },
   "outputs": [
    {
     "data": {
      "text/plain": [
       "1"
      ]
     },
     "execution_count": 17,
     "metadata": {},
     "output_type": "execute_result"
    }
   ],
   "source": [
    "np.argmin([5.261006,2.522318])"
   ]
  },
  {
   "cell_type": "code",
   "execution_count": 18,
   "metadata": {
    "colab": {
     "base_uri": "https://localhost:8080/"
    },
    "id": "gtY_kIrSiKah",
    "outputId": "ae4ba012-1fac-4d61-cd14-c820348f55b7"
   },
   "outputs": [
    {
     "data": {
      "text/plain": [
       "1"
      ]
     },
     "execution_count": 18,
     "metadata": {},
     "output_type": "execute_result"
    }
   ],
   "source": [
    "np.argmin(df[[\"dist_1\", \"dist_2\"]].iloc[0])"
   ]
  },
  {
   "cell_type": "code",
   "execution_count": 19,
   "metadata": {
    "colab": {
     "base_uri": "https://localhost:8080/"
    },
    "id": "7mXVXgF5iVou",
    "outputId": "800d5847-970b-451c-d436-d1fcc41086ce"
   },
   "outputs": [
    {
     "name": "stdout",
     "output_type": "stream",
     "text": [
      "[1, 1, 0, 1, 1, 1, 1, 1, 1, 0, 0, 0, 0, 0, 0, 0, 0, 0, 0, 0, 0, 0, 1, 1, 0, 0, 1, 0, 1, 0, 0, 0, 1, 1, 1, 0, 1, 0, 1, 1, 0, 1, 0, 0, 0, 0, 1, 1, 0, 0, 1, 0, 1, 1, 1, 0, 0, 0, 0, 1, 0, 1, 0, 0, 1, 1, 0, 1, 0, 0, 0, 1, 1, 0, 1, 0, 1, 0, 1, 1, 0, 0, 1, 1, 1, 1, 1, 0, 1, 1, 1, 0, 1, 0, 0, 1, 1, 1, 0, 1] "
     ]
    }
   ],
   "source": [
    "centers = [np.argmin(df[[\"dist_1\", \"dist_2\"]].iloc[i]) for i in range(len(df))]\n",
    "print(centers,end=\" \")"
   ]
  },
  {
   "cell_type": "code",
   "execution_count": 20,
   "metadata": {
    "colab": {
     "base_uri": "https://localhost:8080/",
     "height": 206
    },
    "id": "S8XmZePGi3WB",
    "outputId": "2d8e63a6-fdc0-4a51-93f8-de424dddb82e"
   },
   "outputs": [
    {
     "data": {
      "text/html": [
       "<div>\n",
       "<style scoped>\n",
       "    .dataframe tbody tr th:only-of-type {\n",
       "        vertical-align: middle;\n",
       "    }\n",
       "\n",
       "    .dataframe tbody tr th {\n",
       "        vertical-align: top;\n",
       "    }\n",
       "\n",
       "    .dataframe thead th {\n",
       "        text-align: right;\n",
       "    }\n",
       "</style>\n",
       "<table border=\"1\" class=\"dataframe\">\n",
       "  <thead>\n",
       "    <tr style=\"text-align: right;\">\n",
       "      <th></th>\n",
       "      <th>Col_1</th>\n",
       "      <th>Col_2</th>\n",
       "      <th>dist_1</th>\n",
       "      <th>dist_2</th>\n",
       "      <th>centers</th>\n",
       "    </tr>\n",
       "  </thead>\n",
       "  <tbody>\n",
       "    <tr>\n",
       "      <th>0</th>\n",
       "      <td>2.797764</td>\n",
       "      <td>2.765331</td>\n",
       "      <td>4.553247</td>\n",
       "      <td>1.098121</td>\n",
       "      <td>1</td>\n",
       "    </tr>\n",
       "    <tr>\n",
       "      <th>1</th>\n",
       "      <td>2.714970</td>\n",
       "      <td>4.577978</td>\n",
       "      <td>3.352596</td>\n",
       "      <td>1.069525</td>\n",
       "      <td>1</td>\n",
       "    </tr>\n",
       "    <tr>\n",
       "      <th>2</th>\n",
       "      <td>5.518728</td>\n",
       "      <td>6.416140</td>\n",
       "      <td>0.000000</td>\n",
       "      <td>4.341143</td>\n",
       "      <td>0</td>\n",
       "    </tr>\n",
       "    <tr>\n",
       "      <th>3</th>\n",
       "      <td>3.486221</td>\n",
       "      <td>4.054996</td>\n",
       "      <td>3.115459</td>\n",
       "      <td>1.380085</td>\n",
       "      <td>1</td>\n",
       "    </tr>\n",
       "    <tr>\n",
       "      <th>4</th>\n",
       "      <td>1.000756</td>\n",
       "      <td>4.494306</td>\n",
       "      <td>4.909737</td>\n",
       "      <td>1.430022</td>\n",
       "      <td>1</td>\n",
       "    </tr>\n",
       "  </tbody>\n",
       "</table>\n",
       "</div>"
      ],
      "text/plain": [
       "      Col_1     Col_2    dist_1    dist_2  centers\n",
       "0  2.797764  2.765331  4.553247  1.098121        1\n",
       "1  2.714970  4.577978  3.352596  1.069525        1\n",
       "2  5.518728  6.416140  0.000000  4.341143        0\n",
       "3  3.486221  4.054996  3.115459  1.380085        1\n",
       "4  1.000756  4.494306  4.909737  1.430022        1"
      ]
     },
     "execution_count": 20,
     "metadata": {},
     "output_type": "execute_result"
    }
   ],
   "source": [
    "df[\"centers\"] = centers\n",
    "df.head()"
   ]
  },
  {
   "cell_type": "code",
   "execution_count": 21,
   "metadata": {
    "colab": {
     "base_uri": "https://localhost:8080/",
     "height": 430
    },
    "id": "wfFVcBAKjSEB",
    "outputId": "9848ccde-54b0-45bc-8b85-20ed38cfb148"
   },
   "outputs": [
    {
     "data": {
      "image/png": "[encoded data removed]",
      "text/plain": [
       "<Figure size 640x480 with 1 Axes>"
      ]
     },
     "metadata": {},
     "output_type": "display_data"
    }
   ],
   "source": [
    "plt.scatter(X[df[\"centers\"]==0,0], X[df[\"centers\"]==0,1], color=\"blue\")\n",
    "plt.scatter(X[df[\"centers\"]==1,0], X[df[\"centers\"]==1,1], color=\"green\")\n",
    "plt.scatter([cent1[0], cent2[0]], [cent1[1], cent2[1]], marker=\"*\", color=\"red\")\n",
    "plt.show()"
   ]
  },
  {
   "cell_type": "code",
   "execution_count": 22,
   "metadata": {
    "colab": {
     "base_uri": "https://localhost:8080/"
    },
    "id": "BfK5ETSujmMB",
    "outputId": "9e08bec4-337f-4d5b-f973-82da257c241a"
   },
   "outputs": [
    {
     "data": {
      "text/plain": [
       "Col_1      5.762365\n",
       "Col_2      6.282536\n",
       "dist_1     1.243153\n",
       "dist_2     4.558653\n",
       "centers    0.000000\n",
       "dtype: float64"
      ]
     },
     "execution_count": 22,
     "metadata": {},
     "output_type": "execute_result"
    }
   ],
   "source": [
    "# Step 4 : Find the means of data that belogs to center = 0 and center = 1\n",
    "\n",
    "df[df[\"centers\"]==0].mean()"
   ]
  },
  {
   "cell_type": "code",
   "execution_count": 23,
   "metadata": {
    "id": "lT631eTPkjGi"
   },
   "outputs": [],
   "source": [
    "df.drop([\"dist_1\", \"dist_2\"], axis=1, inplace=True)"
   ]
  },
  {
   "cell_type": "code",
   "execution_count": 24,
   "metadata": {
    "colab": {
     "base_uri": "https://localhost:8080/"
    },
    "id": "aAylfKFpkDQe",
    "outputId": "c70c6f44-0e34-4e49-b209-b2980bbce678"
   },
   "outputs": [
    {
     "data": {
      "text/plain": [
       "Col_1    5.762365\n",
       "Col_2    6.282536\n",
       "dtype: float64"
      ]
     },
     "execution_count": 24,
     "metadata": {},
     "output_type": "execute_result"
    }
   ],
   "source": [
    "df[[\"Col_1\", \"Col_2\"]][df[\"centers\"]==0].mean()"
   ]
  },
  {
   "cell_type": "code",
   "execution_count": 25,
   "metadata": {
    "colab": {
     "base_uri": "https://localhost:8080/"
    },
    "id": "gtCg4tZVkuOc",
    "outputId": "e9d93bd0-9051-43eb-e09e-1632cb7b037d"
   },
   "outputs": [
    {
     "data": {
      "text/plain": [
       "Col_1    2.282992\n",
       "Col_2    3.458179\n",
       "dtype: float64"
      ]
     },
     "execution_count": 25,
     "metadata": {},
     "output_type": "execute_result"
    }
   ],
   "source": [
    "df[[\"Col_1\", \"Col_2\"]][df[\"centers\"]==1].mean()"
   ]
  },
  {
   "cell_type": "code",
   "execution_count": 26,
   "metadata": {
    "colab": {
     "base_uri": "https://localhost:8080/"
    },
    "id": "_c6FCfVFk0Dx",
    "outputId": "479c9a33-c649-4925-b599-0624f48b8b5e"
   },
   "outputs": [
    {
     "data": {
      "text/plain": [
       "(Col_1    5.762365\n",
       " Col_2    6.282536\n",
       " dtype: float64,\n",
       " Col_1    2.282992\n",
       " Col_2    3.458179\n",
       " dtype: float64)"
      ]
     },
     "execution_count": 26,
     "metadata": {},
     "output_type": "execute_result"
    }
   ],
   "source": [
    "new_cent1 = df[[\"Col_1\", \"Col_2\"]][df[\"centers\"]==0].mean()\n",
    "new_cent2 = df[[\"Col_1\", \"Col_2\"]][df[\"centers\"]==1].mean()\n",
    "new_cent1, new_cent2"
   ]
  },
  {
   "cell_type": "code",
   "execution_count": 27,
   "metadata": {
    "colab": {
     "base_uri": "https://localhost:8080/",
     "height": 430
    },
    "id": "RvXNivJBlVe6",
    "outputId": "075ca1a7-620c-4eb4-9589-ae7417ef49ad"
   },
   "outputs": [
    {
     "data": {
      "image/png": "[encoded data removed]",
      "text/plain": [
       "<Figure size 640x480 with 1 Axes>"
      ]
     },
     "metadata": {},
     "output_type": "display_data"
    }
   ],
   "source": [
    "plt.scatter(X[df[\"centers\"]==0,0], X[df[\"centers\"]==0,1], color=\"blue\")\n",
    "plt.scatter(X[df[\"centers\"]==1,0], X[df[\"centers\"]==1,1], color=\"green\")\n",
    "plt.scatter([cent1[0], cent2[0]], [cent1[1], cent2[1]], marker=\"*\", color=\"red\")\n",
    "plt.scatter([new_cent1[0], new_cent2[0]], [new_cent1[1], new_cent2[1]], marker=\"*\", color=\"black\")\n",
    "plt.show()"
   ]
  },
  {
   "cell_type": "code",
   "execution_count": 28,
   "metadata": {
    "id": "fxvfyMuNlkVV"
   },
   "outputs": [],
   "source": [
    "dist1 = np.sqrt((new_cent1[0]-X[:,0])**2 + (new_cent1[1] - X[:,1])**2)\n",
    "dist2 = np.sqrt((new_cent2[0]-X[:,0])**2 + (new_cent2[1] - X[:,1])**2)"
   ]
  },
  {
   "cell_type": "code",
   "execution_count": 29,
   "metadata": {
    "colab": {
     "base_uri": "https://localhost:8080/",
     "height": 206
    },
    "id": "S1kSXfJImGcr",
    "outputId": "ed808317-46bc-457b-9134-4246150372ef"
   },
   "outputs": [
    {
     "data": {
      "text/html": [
       "<div>\n",
       "<style scoped>\n",
       "    .dataframe tbody tr th:only-of-type {\n",
       "        vertical-align: middle;\n",
       "    }\n",
       "\n",
       "    .dataframe tbody tr th {\n",
       "        vertical-align: top;\n",
       "    }\n",
       "\n",
       "    .dataframe thead th {\n",
       "        text-align: right;\n",
       "    }\n",
       "</style>\n",
       "<table border=\"1\" class=\"dataframe\">\n",
       "  <thead>\n",
       "    <tr style=\"text-align: right;\">\n",
       "      <th></th>\n",
       "      <th>Col_1</th>\n",
       "      <th>Col_2</th>\n",
       "      <th>centers</th>\n",
       "      <th>dist_1</th>\n",
       "      <th>dist_2</th>\n",
       "    </tr>\n",
       "  </thead>\n",
       "  <tbody>\n",
       "    <tr>\n",
       "      <th>0</th>\n",
       "      <td>2.797764</td>\n",
       "      <td>2.765331</td>\n",
       "      <td>1</td>\n",
       "      <td>4.599956</td>\n",
       "      <td>0.863150</td>\n",
       "    </tr>\n",
       "    <tr>\n",
       "      <th>1</th>\n",
       "      <td>2.714970</td>\n",
       "      <td>4.577978</td>\n",
       "      <td>1</td>\n",
       "      <td>3.491724</td>\n",
       "      <td>1.200231</td>\n",
       "    </tr>\n",
       "    <tr>\n",
       "      <th>2</th>\n",
       "      <td>5.518728</td>\n",
       "      <td>6.416140</td>\n",
       "      <td>0</td>\n",
       "      <td>0.277865</td>\n",
       "      <td>4.384007</td>\n",
       "    </tr>\n",
       "    <tr>\n",
       "      <th>3</th>\n",
       "      <td>3.486221</td>\n",
       "      <td>4.054996</td>\n",
       "      <td>1</td>\n",
       "      <td>3.184771</td>\n",
       "      <td>1.343112</td>\n",
       "    </tr>\n",
       "    <tr>\n",
       "      <th>4</th>\n",
       "      <td>1.000756</td>\n",
       "      <td>4.494306</td>\n",
       "      <td>1</td>\n",
       "      <td>5.086324</td>\n",
       "      <td>1.648541</td>\n",
       "    </tr>\n",
       "  </tbody>\n",
       "</table>\n",
       "</div>"
      ],
      "text/plain": [
       "      Col_1     Col_2  centers    dist_1    dist_2\n",
       "0  2.797764  2.765331        1  4.599956  0.863150\n",
       "1  2.714970  4.577978        1  3.491724  1.200231\n",
       "2  5.518728  6.416140        0  0.277865  4.384007\n",
       "3  3.486221  4.054996        1  3.184771  1.343112\n",
       "4  1.000756  4.494306        1  5.086324  1.648541"
      ]
     },
     "execution_count": 29,
     "metadata": {},
     "output_type": "execute_result"
    }
   ],
   "source": [
    "df[\"dist_1\"] = dist1\n",
    "df[\"dist_2\"] = dist2\n",
    "df.head()"
   ]
  },
  {
   "cell_type": "code",
   "execution_count": 30,
   "metadata": {
    "colab": {
     "base_uri": "https://localhost:8080/"
    },
    "id": "qCNiEbMimSbU",
    "outputId": "252cea4b-0935-4170-9a50-c020475b5ac1"
   },
   "outputs": [
    {
     "data": {
      "text/plain": [
       "[1,\n",
       " 1,\n",
       " 0,\n",
       " 1,\n",
       " 1,\n",
       " 1,\n",
       " 1,\n",
       " 1,\n",
       " 1,\n",
       " 0,\n",
       " 0,\n",
       " 0,\n",
       " 0,\n",
       " 0,\n",
       " 0,\n",
       " 0,\n",
       " 0,\n",
       " 0,\n",
       " 0,\n",
       " 0,\n",
       " 0,\n",
       " 0,\n",
       " 1,\n",
       " 1,\n",
       " 0,\n",
       " 0,\n",
       " 1,\n",
       " 0,\n",
       " 1,\n",
       " 0,\n",
       " 0,\n",
       " 0,\n",
       " 1,\n",
       " 1,\n",
       " 1,\n",
       " 0,\n",
       " 1,\n",
       " 0,\n",
       " 1,\n",
       " 1,\n",
       " 0,\n",
       " 1,\n",
       " 0,\n",
       " 0,\n",
       " 0,\n",
       " 0,\n",
       " 1,\n",
       " 1,\n",
       " 0,\n",
       " 0,\n",
       " 1,\n",
       " 0,\n",
       " 1,\n",
       " 1,\n",
       " 1,\n",
       " 0,\n",
       " 0,\n",
       " 0,\n",
       " 0,\n",
       " 1,\n",
       " 0,\n",
       " 1,\n",
       " 0,\n",
       " 0,\n",
       " 1,\n",
       " 1,\n",
       " 0,\n",
       " 1,\n",
       " 0,\n",
       " 0,\n",
       " 0,\n",
       " 1,\n",
       " 1,\n",
       " 0,\n",
       " 1,\n",
       " 0,\n",
       " 1,\n",
       " 0,\n",
       " 1,\n",
       " 1,\n",
       " 0,\n",
       " 0,\n",
       " 1,\n",
       " 1,\n",
       " 1,\n",
       " 1,\n",
       " 1,\n",
       " 0,\n",
       " 1,\n",
       " 1,\n",
       " 1,\n",
       " 0,\n",
       " 1,\n",
       " 0,\n",
       " 0,\n",
       " 1,\n",
       " 1,\n",
       " 1,\n",
       " 0,\n",
       " 1]"
      ]
     },
     "execution_count": 30,
     "metadata": {},
     "output_type": "execute_result"
    }
   ],
   "source": [
    "new_centers = [np.argmin(df[[\"dist_1\", \"dist_2\"]].iloc[i]) for i in range(len(df))]\n",
    "new_centers"
   ]
  },
  {
   "cell_type": "code",
   "execution_count": 31,
   "metadata": {
    "colab": {
     "base_uri": "https://localhost:8080/",
     "height": 206
    },
    "id": "AsyAV0ccmbE5",
    "outputId": "f1066c63-554e-44dc-8a5e-f5600e2e6959"
   },
   "outputs": [
    {
     "data": {
      "text/html": [
       "<div>\n",
       "<style scoped>\n",
       "    .dataframe tbody tr th:only-of-type {\n",
       "        vertical-align: middle;\n",
       "    }\n",
       "\n",
       "    .dataframe tbody tr th {\n",
       "        vertical-align: top;\n",
       "    }\n",
       "\n",
       "    .dataframe thead th {\n",
       "        text-align: right;\n",
       "    }\n",
       "</style>\n",
       "<table border=\"1\" class=\"dataframe\">\n",
       "  <thead>\n",
       "    <tr style=\"text-align: right;\">\n",
       "      <th></th>\n",
       "      <th>Col_1</th>\n",
       "      <th>Col_2</th>\n",
       "      <th>centers</th>\n",
       "      <th>dist_1</th>\n",
       "      <th>dist_2</th>\n",
       "      <th>new_centers</th>\n",
       "    </tr>\n",
       "  </thead>\n",
       "  <tbody>\n",
       "    <tr>\n",
       "      <th>0</th>\n",
       "      <td>2.797764</td>\n",
       "      <td>2.765331</td>\n",
       "      <td>1</td>\n",
       "      <td>4.599956</td>\n",
       "      <td>0.863150</td>\n",
       "      <td>1</td>\n",
       "    </tr>\n",
       "    <tr>\n",
       "      <th>1</th>\n",
       "      <td>2.714970</td>\n",
       "      <td>4.577978</td>\n",
       "      <td>1</td>\n",
       "      <td>3.491724</td>\n",
       "      <td>1.200231</td>\n",
       "      <td>1</td>\n",
       "    </tr>\n",
       "    <tr>\n",
       "      <th>2</th>\n",
       "      <td>5.518728</td>\n",
       "      <td>6.416140</td>\n",
       "      <td>0</td>\n",
       "      <td>0.277865</td>\n",
       "      <td>4.384007</td>\n",
       "      <td>0</td>\n",
       "    </tr>\n",
       "    <tr>\n",
       "      <th>3</th>\n",
       "      <td>3.486221</td>\n",
       "      <td>4.054996</td>\n",
       "      <td>1</td>\n",
       "      <td>3.184771</td>\n",
       "      <td>1.343112</td>\n",
       "      <td>1</td>\n",
       "    </tr>\n",
       "    <tr>\n",
       "      <th>4</th>\n",
       "      <td>1.000756</td>\n",
       "      <td>4.494306</td>\n",
       "      <td>1</td>\n",
       "      <td>5.086324</td>\n",
       "      <td>1.648541</td>\n",
       "      <td>1</td>\n",
       "    </tr>\n",
       "  </tbody>\n",
       "</table>\n",
       "</div>"
      ],
      "text/plain": [
       "      Col_1     Col_2  centers    dist_1    dist_2  new_centers\n",
       "0  2.797764  2.765331        1  4.599956  0.863150            1\n",
       "1  2.714970  4.577978        1  3.491724  1.200231            1\n",
       "2  5.518728  6.416140        0  0.277865  4.384007            0\n",
       "3  3.486221  4.054996        1  3.184771  1.343112            1\n",
       "4  1.000756  4.494306        1  5.086324  1.648541            1"
      ]
     },
     "execution_count": 31,
     "metadata": {},
     "output_type": "execute_result"
    }
   ],
   "source": [
    "df[\"new_centers\"] = new_centers\n",
    "df.head()"
   ]
  },
  {
   "cell_type": "code",
   "execution_count": 32,
   "metadata": {
    "id": "lFcSFrpqm6Zg"
   },
   "outputs": [],
   "source": [
    "df.drop([\"dist_1\", \"dist_2\"], axis=1, inplace=True)"
   ]
  },
  {
   "cell_type": "code",
   "execution_count": 33,
   "metadata": {
    "colab": {
     "base_uri": "https://localhost:8080/",
     "height": 206
    },
    "id": "8hR7dGNhnEFU",
    "outputId": "18bfdeef-0e42-4427-9745-02a49273e013"
   },
   "outputs": [
    {
     "data": {
      "text/html": [
       "<div>\n",
       "<style scoped>\n",
       "    .dataframe tbody tr th:only-of-type {\n",
       "        vertical-align: middle;\n",
       "    }\n",
       "\n",
       "    .dataframe tbody tr th {\n",
       "        vertical-align: top;\n",
       "    }\n",
       "\n",
       "    .dataframe thead th {\n",
       "        text-align: right;\n",
       "    }\n",
       "</style>\n",
       "<table border=\"1\" class=\"dataframe\">\n",
       "  <thead>\n",
       "    <tr style=\"text-align: right;\">\n",
       "      <th></th>\n",
       "      <th>Col_1</th>\n",
       "      <th>Col_2</th>\n",
       "      <th>centers</th>\n",
       "      <th>new_centers</th>\n",
       "    </tr>\n",
       "  </thead>\n",
       "  <tbody>\n",
       "    <tr>\n",
       "      <th>0</th>\n",
       "      <td>2.797764</td>\n",
       "      <td>2.765331</td>\n",
       "      <td>1</td>\n",
       "      <td>1</td>\n",
       "    </tr>\n",
       "    <tr>\n",
       "      <th>1</th>\n",
       "      <td>2.714970</td>\n",
       "      <td>4.577978</td>\n",
       "      <td>1</td>\n",
       "      <td>1</td>\n",
       "    </tr>\n",
       "    <tr>\n",
       "      <th>2</th>\n",
       "      <td>5.518728</td>\n",
       "      <td>6.416140</td>\n",
       "      <td>0</td>\n",
       "      <td>0</td>\n",
       "    </tr>\n",
       "    <tr>\n",
       "      <th>3</th>\n",
       "      <td>3.486221</td>\n",
       "      <td>4.054996</td>\n",
       "      <td>1</td>\n",
       "      <td>1</td>\n",
       "    </tr>\n",
       "    <tr>\n",
       "      <th>4</th>\n",
       "      <td>1.000756</td>\n",
       "      <td>4.494306</td>\n",
       "      <td>1</td>\n",
       "      <td>1</td>\n",
       "    </tr>\n",
       "  </tbody>\n",
       "</table>\n",
       "</div>"
      ],
      "text/plain": [
       "      Col_1     Col_2  centers  new_centers\n",
       "0  2.797764  2.765331        1            1\n",
       "1  2.714970  4.577978        1            1\n",
       "2  5.518728  6.416140        0            0\n",
       "3  3.486221  4.054996        1            1\n",
       "4  1.000756  4.494306        1            1"
      ]
     },
     "execution_count": 33,
     "metadata": {},
     "output_type": "execute_result"
    }
   ],
   "source": [
    "df.head()"
   ]
  },
  {
   "cell_type": "code",
   "execution_count": 34,
   "metadata": {
    "colab": {
     "base_uri": "https://localhost:8080/"
    },
    "id": "MuGlcSzEnFYf",
    "outputId": "7b087daf-b2d1-4552-e5c0-de733193db18"
   },
   "outputs": [
    {
     "data": {
      "text/plain": [
       "(Col_1    5.762365\n",
       " Col_2    6.282536\n",
       " dtype: float64,\n",
       " Col_1    2.282992\n",
       " Col_2    3.458179\n",
       " dtype: float64)"
      ]
     },
     "execution_count": 34,
     "metadata": {},
     "output_type": "execute_result"
    }
   ],
   "source": [
    "new_cent1_s2 = df[[\"Col_1\", \"Col_2\"]][df[\"new_centers\"]==0].mean()\n",
    "new_cent2_s2 = df[[\"Col_1\", \"Col_2\"]][df[\"new_centers\"]==1].mean()\n",
    "new_cent1_s2, new_cent2_s2"
   ]
  },
  {
   "cell_type": "code",
   "execution_count": 35,
   "metadata": {
    "colab": {
     "base_uri": "https://localhost:8080/",
     "height": 430
    },
    "id": "jaLQhzk-nYHt",
    "outputId": "44d66b09-75cf-4b1d-f2c6-5bbfa96ee185"
   },
   "outputs": [
    {
     "data": {
      "image/png": "[encoded data removed]",
      "text/plain": [
       "<Figure size 640x480 with 1 Axes>"
      ]
     },
     "metadata": {},
     "output_type": "display_data"
    }
   ],
   "source": [
    "plt.scatter(X[df[\"centers\"]==0,0], X[df[\"centers\"]==0,1], color=\"blue\")\n",
    "plt.scatter(X[df[\"centers\"]==1,0], X[df[\"centers\"]==1,1], color=\"green\")\n",
    "plt.scatter([cent1[0], cent2[0]], [cent1[1], cent2[1]], marker=\"*\", color=\"red\")\n",
    "plt.scatter([new_cent1[0], new_cent2[0]], [new_cent1[1], new_cent2[1]], marker=\"*\", color=\"black\")\n",
    "plt.scatter([new_cent1_s2[0], new_cent2_s2[0]], [new_cent1_s2[1], new_cent2_s2[1]], marker=\"*\", color=\"yellow\")\n",
    "plt.show()"
   ]
  },
  {
   "cell_type": "code",
   "execution_count": 36,
   "metadata": {
    "id": "_TG0Y7VtnsS4"
   },
   "outputs": [],
   "source": [
    "# Step 1 -> Assign random centers (considered min and max data points)\n",
    "# Step 2 -> Find the distance of every point from all centers - Euclidean Distance\n",
    "# Step 3 -> Find which data points nearer from which center\n",
    "# Step 4 -> Find the means of centers (center=0 and center=1)\n",
    "\n",
    "# Repeat step 2, 3 and 4 till not get best center points"
   ]
  },
  {
   "cell_type": "code",
   "execution_count": 37,
   "metadata": {
    "id": "GeTwlm_tojtM"
   },
   "outputs": [],
   "source": [
    "from sklearn.cluster import KMeans"
   ]
  },
  {
   "cell_type": "code",
   "execution_count": 38,
   "metadata": {
    "id": "5jcR8z6_ovIo"
   },
   "outputs": [],
   "source": [
    "km = KMeans(n_clusters=2)"
   ]
  },
  {
   "cell_type": "code",
   "execution_count": 39,
   "metadata": {
    "colab": {
     "base_uri": "https://localhost:8080/"
    },
    "id": "JVjfp6LQozpc",
    "outputId": "76a4eae4-2499-40a1-a349-da5aef77e580"
   },
   "outputs": [
    {
     "name": "stderr",
     "output_type": "stream",
     "text": [
      "C:\\ProgramData\\anaconda3\\Lib\\site-packages\\sklearn\\cluster\\_kmeans.py:870: FutureWarning: The default value of `n_init` will change from 10 to 'auto' in 1.4. Set the value of `n_init` explicitly to suppress the warning\n",
      "  warnings.warn(\n",
      "C:\\ProgramData\\anaconda3\\Lib\\site-packages\\sklearn\\cluster\\_kmeans.py:1382: UserWarning: KMeans is known to have a memory leak on Windows with MKL, when there are less chunks than available threads. You can avoid it by setting the environment variable OMP_NUM_THREADS=1.\n",
      "  warnings.warn(\n"
     ]
    }
   ],
   "source": [
    "sk_centers = km.fit_predict(df[[\"Col_1\", \"Col_2\"]])"
   ]
  },
  {
   "cell_type": "code",
   "execution_count": 40,
   "metadata": {
    "id": "hsITMF0Yo7-B"
   },
   "outputs": [],
   "source": [
    "df[\"SKlearn Centers\"] = sk_centers"
   ]
  },
  {
   "cell_type": "code",
   "execution_count": 41,
   "metadata": {
    "colab": {
     "base_uri": "https://localhost:8080/",
     "height": 206
    },
    "id": "8ssyHXidpTWh",
    "outputId": "6eab351a-b3fc-4fde-cb0e-b6fb889feb7d"
   },
   "outputs": [
    {
     "data": {
      "text/html": [
       "<div>\n",
       "<style scoped>\n",
       "    .dataframe tbody tr th:only-of-type {\n",
       "        vertical-align: middle;\n",
       "    }\n",
       "\n",
       "    .dataframe tbody tr th {\n",
       "        vertical-align: top;\n",
       "    }\n",
       "\n",
       "    .dataframe thead th {\n",
       "        text-align: right;\n",
       "    }\n",
       "</style>\n",
       "<table border=\"1\" class=\"dataframe\">\n",
       "  <thead>\n",
       "    <tr style=\"text-align: right;\">\n",
       "      <th></th>\n",
       "      <th>Col_1</th>\n",
       "      <th>Col_2</th>\n",
       "      <th>centers</th>\n",
       "      <th>new_centers</th>\n",
       "      <th>SKlearn Centers</th>\n",
       "    </tr>\n",
       "  </thead>\n",
       "  <tbody>\n",
       "    <tr>\n",
       "      <th>0</th>\n",
       "      <td>2.797764</td>\n",
       "      <td>2.765331</td>\n",
       "      <td>1</td>\n",
       "      <td>1</td>\n",
       "      <td>0</td>\n",
       "    </tr>\n",
       "    <tr>\n",
       "      <th>1</th>\n",
       "      <td>2.714970</td>\n",
       "      <td>4.577978</td>\n",
       "      <td>1</td>\n",
       "      <td>1</td>\n",
       "      <td>0</td>\n",
       "    </tr>\n",
       "    <tr>\n",
       "      <th>2</th>\n",
       "      <td>5.518728</td>\n",
       "      <td>6.416140</td>\n",
       "      <td>0</td>\n",
       "      <td>0</td>\n",
       "      <td>1</td>\n",
       "    </tr>\n",
       "    <tr>\n",
       "      <th>3</th>\n",
       "      <td>3.486221</td>\n",
       "      <td>4.054996</td>\n",
       "      <td>1</td>\n",
       "      <td>1</td>\n",
       "      <td>0</td>\n",
       "    </tr>\n",
       "    <tr>\n",
       "      <th>4</th>\n",
       "      <td>1.000756</td>\n",
       "      <td>4.494306</td>\n",
       "      <td>1</td>\n",
       "      <td>1</td>\n",
       "      <td>0</td>\n",
       "    </tr>\n",
       "  </tbody>\n",
       "</table>\n",
       "</div>"
      ],
      "text/plain": [
       "      Col_1     Col_2  centers  new_centers  SKlearn Centers\n",
       "0  2.797764  2.765331        1            1                0\n",
       "1  2.714970  4.577978        1            1                0\n",
       "2  5.518728  6.416140        0            0                1\n",
       "3  3.486221  4.054996        1            1                0\n",
       "4  1.000756  4.494306        1            1                0"
      ]
     },
     "execution_count": 41,
     "metadata": {},
     "output_type": "execute_result"
    }
   ],
   "source": [
    "df.head()"
   ]
  },
  {
   "cell_type": "code",
   "execution_count": 42,
   "metadata": {
    "id": "sOOqop0MpUEy"
   },
   "outputs": [],
   "source": [
    "df[\"SKlearn Centers\"] = 1-df[\"SKlearn Centers\"]"
   ]
  },
  {
   "cell_type": "code",
   "execution_count": 43,
   "metadata": {
    "colab": {
     "base_uri": "https://localhost:8080/",
     "height": 206
    },
    "id": "kGg8SCcEpigv",
    "outputId": "8c2dfc6a-8de3-4da3-965e-64b9982da7c3"
   },
   "outputs": [
    {
     "data": {
      "text/html": [
       "<div>\n",
       "<style scoped>\n",
       "    .dataframe tbody tr th:only-of-type {\n",
       "        vertical-align: middle;\n",
       "    }\n",
       "\n",
       "    .dataframe tbody tr th {\n",
       "        vertical-align: top;\n",
       "    }\n",
       "\n",
       "    .dataframe thead th {\n",
       "        text-align: right;\n",
       "    }\n",
       "</style>\n",
       "<table border=\"1\" class=\"dataframe\">\n",
       "  <thead>\n",
       "    <tr style=\"text-align: right;\">\n",
       "      <th></th>\n",
       "      <th>Col_1</th>\n",
       "      <th>Col_2</th>\n",
       "      <th>centers</th>\n",
       "      <th>new_centers</th>\n",
       "      <th>SKlearn Centers</th>\n",
       "    </tr>\n",
       "  </thead>\n",
       "  <tbody>\n",
       "    <tr>\n",
       "      <th>0</th>\n",
       "      <td>2.797764</td>\n",
       "      <td>2.765331</td>\n",
       "      <td>1</td>\n",
       "      <td>1</td>\n",
       "      <td>1</td>\n",
       "    </tr>\n",
       "    <tr>\n",
       "      <th>1</th>\n",
       "      <td>2.714970</td>\n",
       "      <td>4.577978</td>\n",
       "      <td>1</td>\n",
       "      <td>1</td>\n",
       "      <td>1</td>\n",
       "    </tr>\n",
       "    <tr>\n",
       "      <th>2</th>\n",
       "      <td>5.518728</td>\n",
       "      <td>6.416140</td>\n",
       "      <td>0</td>\n",
       "      <td>0</td>\n",
       "      <td>0</td>\n",
       "    </tr>\n",
       "    <tr>\n",
       "      <th>3</th>\n",
       "      <td>3.486221</td>\n",
       "      <td>4.054996</td>\n",
       "      <td>1</td>\n",
       "      <td>1</td>\n",
       "      <td>1</td>\n",
       "    </tr>\n",
       "    <tr>\n",
       "      <th>4</th>\n",
       "      <td>1.000756</td>\n",
       "      <td>4.494306</td>\n",
       "      <td>1</td>\n",
       "      <td>1</td>\n",
       "      <td>1</td>\n",
       "    </tr>\n",
       "  </tbody>\n",
       "</table>\n",
       "</div>"
      ],
      "text/plain": [
       "      Col_1     Col_2  centers  new_centers  SKlearn Centers\n",
       "0  2.797764  2.765331        1            1                1\n",
       "1  2.714970  4.577978        1            1                1\n",
       "2  5.518728  6.416140        0            0                0\n",
       "3  3.486221  4.054996        1            1                1\n",
       "4  1.000756  4.494306        1            1                1"
      ]
     },
     "execution_count": 43,
     "metadata": {},
     "output_type": "execute_result"
    }
   ],
   "source": [
    "df.head()"
   ]
  },
  {
   "cell_type": "code",
   "execution_count": 44,
   "metadata": {
    "id": "TKnXxyrAp4Nw"
   },
   "outputs": [],
   "source": [
    "cent = km.cluster_centers_"
   ]
  },
  {
   "cell_type": "code",
   "execution_count": 45,
   "metadata": {
    "colab": {
     "base_uri": "https://localhost:8080/",
     "height": 430
    },
    "id": "Uh8Jr4ZJpqpS",
    "outputId": "ed4cd604-0bc1-4879-cab6-b6f361392504"
   },
   "outputs": [
    {
     "data": {
      "image/png": "[encoded data removed]",
      "text/plain": [
       "<Figure size 640x480 with 1 Axes>"
      ]
     },
     "metadata": {},
     "output_type": "display_data"
    }
   ],
   "source": [
    "plt.scatter(X[df[\"centers\"]==0,0], X[df[\"centers\"]==0,1], color=\"blue\")\n",
    "plt.scatter(X[df[\"centers\"]==1,0], X[df[\"centers\"]==1,1], color=\"green\")\n",
    "plt.scatter([cent1[0], cent2[0]], [cent1[1], cent2[1]], marker=\"*\", color=\"red\")\n",
    "plt.scatter([new_cent1[0], new_cent2[0]], [new_cent1[1], new_cent2[1]], marker=\"*\", color=\"black\")\n",
    "plt.scatter([new_cent1_s2[0], new_cent2_s2[0]], [new_cent1_s2[1], new_cent2_s2[1]], marker=\"*\", color=\"yellow\")\n",
    "plt.scatter(cent[:,0], cent[:,1], marker=\"*\", color=\"pink\")\n",
    "plt.show()"
   ]
  },
  {
   "cell_type": "code",
   "execution_count": null,
   "metadata": {
    "id": "91jMaEb5qBgk"
   },
   "outputs": [],
   "source": []
  }
 ],
 "metadata": {
  "colab": {
   "provenance": []
  },
  "kernelspec": {
   "display_name": "Python 3 (ipykernel)",
   "language": "python",
   "name": "python3"
  },
  "language_info": {
   "codemirror_mode": {
    "name": "ipython",
    "version": 3
   },
   "file_extension": ".py",
   "mimetype": "text/x-python",
   "name": "python",
   "nbconvert_exporter": "python",
   "pygments_lexer": "ipython3",
   "version": "3.11.3"
  }
 },
 "nbformat": 4,
 "nbformat_minor": 1
}
